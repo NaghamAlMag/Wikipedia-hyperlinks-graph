{
 "cells": [
  {
   "cell_type": "markdown",
   "metadata": {},
   "source": [
    "# Homework 5 - Visit the Wikipedia hyperlinks graph!\n",
    "\n",
    "***Work done by Nagham Almagout, Cristina Falconi and Ilaria Servadio.***"
   ]
  },
  {
   "cell_type": "markdown",
   "metadata": {},
   "source": [
    "**[RQ1]** Build the graph $[ G = (V, E)] $, where $V$ is the set of articles and $E$ the hyperlinks among them, and provide its basic information:\n",
    "\n",
    "    - If it is direct or not\n",
    "    - The number of nodes\n",
    "    - The number of edges\n",
    "    - The average node degree. Is the graph dense?\n",
    "    \n",
    "Show which packages we used:"
   ]
  },
  {
   "cell_type": "code",
   "execution_count": 1,
   "metadata": {},
   "outputs": [],
   "source": [
    "# Load and work with the data:\n",
    "import pandas as pd\n",
    "import numpy as np\n",
    "import csv\n",
    "import pickle\n",
    "import time\n",
    "\n",
    "from collections import OrderedDict\n",
    "\n",
    "# A way of using operating system dependent functionality:\n",
    "import os\n",
    "os.chdir('C:/Users/Admin/Desktop/ADM/Homework5')\n",
    "\n",
    "# Functions creating iterators:\n",
    "import itertools as it\n",
    "\n",
    "# Creation, manipulation, and study of the networks:\n",
    "import networkx as nx\n",
    "\n",
    "# Visualization:\n",
    "import matplotlib.pyplot as plt\n",
    "%matplotlib inline\n",
    "\n",
    "#Display image:\n",
    "from IPython.display import Image"
   ]
  },
  {
   "cell_type": "markdown",
   "metadata": {},
   "source": [
    "The first thing to do is to load the txt file we downloaded from [Wikicat hyperlink graph.](https://drive.google.com/file/d/1ghPJ4g6XMCUDFQ2JPqAVveLyytG8gBfL/view) In this file, every row is an **edge** and the two elements are the **nodes** *(source and destination)*. We load our document and transform it into a dataframe which is easy to handle."
   ]
  },
  {
   "cell_type": "code",
   "execution_count": 2,
   "metadata": {},
   "outputs": [
    {
     "data": {
      "text/html": [
       "<div>\n",
       "<style scoped>\n",
       "    .dataframe tbody tr th:only-of-type {\n",
       "        vertical-align: middle;\n",
       "    }\n",
       "\n",
       "    .dataframe tbody tr th {\n",
       "        vertical-align: top;\n",
       "    }\n",
       "\n",
       "    .dataframe thead th {\n",
       "        text-align: right;\n",
       "    }\n",
       "</style>\n",
       "<table border=\"1\" class=\"dataframe\">\n",
       "  <thead>\n",
       "    <tr style=\"text-align: right;\">\n",
       "      <th></th>\n",
       "      <th>Source</th>\n",
       "      <th>Destination</th>\n",
       "    </tr>\n",
       "  </thead>\n",
       "  <tbody>\n",
       "    <tr>\n",
       "      <th>0</th>\n",
       "      <td>52</td>\n",
       "      <td>401135</td>\n",
       "    </tr>\n",
       "    <tr>\n",
       "      <th>1</th>\n",
       "      <td>52</td>\n",
       "      <td>1069112</td>\n",
       "    </tr>\n",
       "    <tr>\n",
       "      <th>2</th>\n",
       "      <td>52</td>\n",
       "      <td>1163551</td>\n",
       "    </tr>\n",
       "    <tr>\n",
       "      <th>3</th>\n",
       "      <td>62</td>\n",
       "      <td>12162</td>\n",
       "    </tr>\n",
       "    <tr>\n",
       "      <th>4</th>\n",
       "      <td>62</td>\n",
       "      <td>167659</td>\n",
       "    </tr>\n",
       "  </tbody>\n",
       "</table>\n",
       "</div>"
      ],
      "text/plain": [
       "  Source Destination\n",
       "0     52      401135\n",
       "1     52     1069112\n",
       "2     52     1163551\n",
       "3     62       12162\n",
       "4     62      167659"
      ]
     },
     "execution_count": 2,
     "metadata": {},
     "output_type": "execute_result"
    }
   ],
   "source": [
    "# We read it as a list because this list will serve us later to check if the nodes belong\n",
    "# to the categories we consider or not: \n",
    "data = list(csv.reader(open('wiki-topcats-reduced.txt', 'r'), delimiter='\\t'))\n",
    "df = pd.DataFrame(data) # Turn it into a dataframe\n",
    "df.columns = ['Source', 'Destination'] # Rename the columns\n",
    "df.head() # Show the first five rows"
   ]
  },
  {
   "cell_type": "markdown",
   "metadata": {},
   "source": [
    "Now we check if by mistake within our dataframe there are two or more equal lines that are repeated, *for example*:\n",
    "\n",
    "|Source | Destination |\n",
    "| --- | --- | \n",
    "| 52 | 100 | \n",
    "| 52 | 100 |\n",
    "\n",
    "If this happens we are going to eliminate all the repeated edges more than once, otherwise we proceed our analysis."
   ]
  },
  {
   "cell_type": "code",
   "execution_count": 3,
   "metadata": {},
   "outputs": [],
   "source": [
    "df_clean = df.drop_duplicates() # we eliminate duplicates if there are any"
   ]
  },
  {
   "cell_type": "markdown",
   "metadata": {},
   "source": [
    "The length of the two data frames is the same so there are no duplicates within our data frame, then we proceed with the analysis with the initial dataframe:"
   ]
  },
  {
   "cell_type": "code",
   "execution_count": 4,
   "metadata": {},
   "outputs": [
    {
     "data": {
      "text/plain": [
       "True"
      ]
     },
     "execution_count": 4,
     "metadata": {},
     "output_type": "execute_result"
    }
   ],
   "source": [
    "len(df.index) == len(df_clean) "
   ]
  },
  {
   "cell_type": "markdown",
   "metadata": {},
   "source": [
    "**The text of the homework requires to take into account all the categories that have a number of articles above 3500** \n",
    "\n",
    "So, what we do now is:\n",
    "\n",
    "Define a function that reads the file with all the categories and scroll through all the lines of the file, if the length of the line is greater than or equal to 3500 then we consider the category corresponding to that line and all its articles (nodes) saving it in the dictionary, otherwise do not take it into account."
   ]
  },
  {
   "cell_type": "code",
   "execution_count": 5,
   "metadata": {},
   "outputs": [],
   "source": [
    "def data_aggregator(file):\n",
    "    cat_data=dict() # {'Category: English_footballers': ['article1','article2',....,'article-n'],..}\n",
    "    with open(file,'r') as r:\n",
    "        for line in r:\n",
    "            l=list(line.split(' '))\n",
    "            if len(l)>3501:\n",
    "                key=l[0].split(':')[1].replace(';','')\n",
    "                cat_data[key]=l[1:]\n",
    "    return cat_data\n",
    "\n",
    "\n",
    "cat_data=data_aggregator('wiki-topcats-categories.txt')      "
   ]
  },
  {
   "cell_type": "markdown",
   "metadata": {},
   "source": [
    "Thirty-five are the categories that have a number of articles above 3500, however it is said that all are present within our graph."
   ]
  },
  {
   "cell_type": "code",
   "execution_count": 6,
   "metadata": {},
   "outputs": [
    {
     "data": {
      "text/plain": [
       "35"
      ]
     },
     "execution_count": 6,
     "metadata": {},
     "output_type": "execute_result"
    }
   ],
   "source": [
    "len(cat_data)"
   ]
  },
  {
   "cell_type": "markdown",
   "metadata": {},
   "source": [
    "It's time to go and see which articles / nodes belong to the categories previously saved in our dictionary:\n",
    "\n",
    "1) *`list(cat_data.values())`*: we get a list of the values in a dictionary. However this is not a simple list but a nested list because the values corresponding to each dictionary key are lists. Example: *[['22860','28411','28961'],['22863','23456']]*.\n",
    "\n",
    "2) *`list(it.chain(nodes))`* : convert a nested list into one-dimensional list;\n",
    "\n",
    "3) *`set(nodes)`*: we eliminate all the duplicates so we consider all the nodes only once."
   ]
  },
  {
   "cell_type": "code",
   "execution_count": 7,
   "metadata": {},
   "outputs": [],
   "source": [
    "nodes=list(cat_data.values()) # nested list\n",
    "nodes=list(it.chain(*nodes)) # insert all the values into a single list\n",
    "nodes=set(nodes) # consider the unique values"
   ]
  },
  {
   "cell_type": "markdown",
   "metadata": {},
   "source": [
    "The next step is read *data* where each row represents an edge and the two elements are the nodes. In the case of both nodes of the row belong to the *nodes* list (that is to the nodes of the categories that have passed the initial check), then we save that edge. Subsequently, we transform the new_data list that contains all the edges in a dataframe and save this last in a csv file as if we were to serve it later we do not have to re-launch the code."
   ]
  },
  {
   "cell_type": "code",
   "execution_count": 8,
   "metadata": {},
   "outputs": [
    {
     "data": {
      "text/html": [
       "<div>\n",
       "<style scoped>\n",
       "    .dataframe tbody tr th:only-of-type {\n",
       "        vertical-align: middle;\n",
       "    }\n",
       "\n",
       "    .dataframe tbody tr th {\n",
       "        vertical-align: top;\n",
       "    }\n",
       "\n",
       "    .dataframe thead th {\n",
       "        text-align: right;\n",
       "    }\n",
       "</style>\n",
       "<table border=\"1\" class=\"dataframe\">\n",
       "  <thead>\n",
       "    <tr style=\"text-align: right;\">\n",
       "      <th></th>\n",
       "      <th>Source</th>\n",
       "      <th>Destination</th>\n",
       "    </tr>\n",
       "  </thead>\n",
       "  <tbody>\n",
       "    <tr>\n",
       "      <th>0</th>\n",
       "      <td>52</td>\n",
       "      <td>401135</td>\n",
       "    </tr>\n",
       "    <tr>\n",
       "      <th>1</th>\n",
       "      <td>52</td>\n",
       "      <td>1069112</td>\n",
       "    </tr>\n",
       "    <tr>\n",
       "      <th>2</th>\n",
       "      <td>52</td>\n",
       "      <td>1163551</td>\n",
       "    </tr>\n",
       "    <tr>\n",
       "      <th>3</th>\n",
       "      <td>62</td>\n",
       "      <td>12162</td>\n",
       "    </tr>\n",
       "    <tr>\n",
       "      <th>4</th>\n",
       "      <td>62</td>\n",
       "      <td>167659</td>\n",
       "    </tr>\n",
       "  </tbody>\n",
       "</table>\n",
       "</div>"
      ],
      "text/plain": [
       "  Source Destination\n",
       "0     52      401135\n",
       "1     52     1069112\n",
       "2     52     1163551\n",
       "3     62       12162\n",
       "4     62      167659"
      ]
     },
     "execution_count": 8,
     "metadata": {},
     "output_type": "execute_result"
    }
   ],
   "source": [
    "new_data=[] \n",
    "for i in range(len(data)):\n",
    "    if data[i][0]  in nodes and data[i][1]  in nodes:\n",
    "        new_data.append(data[i])  \n",
    "df1 =pd.DataFrame(new_data) #transform into dataframe\n",
    "df1.columns = ['Source', 'Destination'] #rename the columns\n",
    "df1.to_csv('sdnodes.csv') #save as csv file\n",
    "df1.head() #show the first five rows"
   ]
  },
  {
   "cell_type": "markdown",
   "metadata": {},
   "source": [
    "As we can see here, the number of edges has now decreased compared to those we originally had."
   ]
  },
  {
   "cell_type": "code",
   "execution_count": 9,
   "metadata": {},
   "outputs": [
    {
     "name": "stdout",
     "output_type": "stream",
     "text": [
      "2645247 is the initial number of edges while 2645160 is the number of current edges.\n"
     ]
    }
   ],
   "source": [
    "print('{} is the initial number of edges'.format(len(data)),\n",
    "      'while {} is the number of current edges.'.format(len(new_data)))"
   ]
  },
  {
   "cell_type": "markdown",
   "metadata": {},
   "source": [
    "Parallel analysis:\n",
    "\n",
    "What do we mean by the sentence above? We want to say that by constructing the graph directly from the text 'wiki-topcats-reduced.txt' we have a certain number of edges while building the graph after the check on the categories we have another number of edges. Based on what we need, we can analyze one of the two graphs."
   ]
  },
  {
   "cell_type": "markdown",
   "metadata": {},
   "source": [
    "It is time to create our **graph** as a dictionary in which the keys are the starting nodes and the values are the destination nodes."
   ]
  },
  {
   "cell_type": "code",
   "execution_count": 10,
   "metadata": {},
   "outputs": [],
   "source": [
    "graph = dict() #{52:[1234,6789]}\n",
    "for row in df1.itertuples(): # read all the lines of our data frame\n",
    "    source = row.Source # take the starting node\n",
    "    if source in graph: \n",
    "        graph[source].append(row.Destination) # add a new destination to the source nodes\n",
    "    else:\n",
    "        graph[source] = [row.Destination] #create a new key with the first destination"
   ]
  },
  {
   "cell_type": "markdown",
   "metadata": {},
   "source": [
    "***The first question we must answer is whether the graph is direct or not:*** \n",
    "\n",
    "We recall, [a directed graph](https://mathinsight.org/definition/directed_graph) is graph in which the nodes are connected together and where ***all the edges are directed from one vertex to another***. In contrast, a graph where the edges are bidirectional is called an undirected graph.\n",
    "\n",
    "To answer this question we have created a function `g_is_dircted(graph)` that returns **True** if the graph is directed otherwise it returns **False**. Let's go explain in detail:\n",
    "\n",
    "All we need to do is find a node $x$ that has an edge that connects it with the node $y$ but the node $y$ in turn is not connected to $x$ with any edge, then the **graph is direct**."
   ]
  },
  {
   "cell_type": "code",
   "execution_count": 2,
   "metadata": {},
   "outputs": [
    {
     "data": {
      "image/png": "[encoded data removed]",
      "text/plain": [
       "<IPython.core.display.Image object>"
      ]
     },
     "execution_count": 2,
     "metadata": {},
     "output_type": "execute_result"
    }
   ],
   "source": [
    "Image(filename = 'ila2.png')"
   ]
  },
  {
   "cell_type": "code",
   "execution_count": 11,
   "metadata": {},
   "outputs": [
    {
     "name": "stdout",
     "output_type": "stream",
     "text": [
      "52 has as a neighbor 401135\n",
      "but 52 is not neighbor for 401135\n",
      "In fact, in the destinations of  401135 we do not find  52 : ['60219', '167532', '400980', '401018', '401019', '401053', '401067', '401137', '401154', '401171', '401184', '401227', '401231', '401295', '401310', '401315', '401457', '401474', '401505', '401609', '401628', '401975', '401981', '402265', '402300', '402715', '402718', '447882', '595633', '606279', '630946', '723911', '724192', '776478', '809904', '810461', '824998', '827334', '946986', '961942', '1058269', '1060341', '1061728', '1061824', '1061885', '1061905', '1062323', '1062938', '1161659', '1163338', '1163407', '1163551', '1163806', '1169888', '1184217', '1184538', '1245651', '1288076', '1288276', '1394526', '1399606', '1571179']\n"
     ]
    },
    {
     "data": {
      "text/plain": [
       "True"
      ]
     },
     "execution_count": 11,
     "metadata": {},
     "output_type": "execute_result"
    }
   ],
   "source": [
    "   def g_is_dircted(graph):\n",
    "    for key in graph: #scroll the keys\n",
    "        for value in graph[key]: #for each key scroll its values\n",
    "            if value in graph and key not in graph[value]: #if key is not neighbor for value -> direct\n",
    "                #if for vertex y there is no vertex x in its adjacent vertices list\n",
    "                print(key,'has as a neighbor',value)\n",
    "                print('but',key, 'is not neighbor for',value)\n",
    "                print('In fact, in the destinations of ',value,'we do not find ',key,':',graph[value])\n",
    "                return True\n",
    "    return False\n",
    "\n",
    "g_is_dircted(graph)     "
   ]
  },
  {
   "cell_type": "markdown",
   "metadata": {},
   "source": [
    "To answer the subsequent questions we decided to do a parallel analysis:\n",
    "- by hand writing the codes to respond to requests\n",
    "- using the 'networkx' package for a further check on the correctness of the results."
   ]
  },
  {
   "cell_type": "code",
   "execution_count": 12,
   "metadata": {},
   "outputs": [
    {
     "name": "stdout",
     "output_type": "stream",
     "text": [
      "Name: \n",
      "Type: DiGraph\n",
      "Number of nodes: 461178\n",
      "Number of edges: 2645160\n",
      "Average in degree:   5.7357\n",
      "Average out degree:   5.7357\n"
     ]
    }
   ],
   "source": [
    "# Graph from 'new_data':\n",
    "G=nx.DiGraph() # Create an empty direct graph with no nodes and no edges\n",
    "G.add_edges_from(new_data) #we add edges from our list\n",
    "print(nx.info(G)) #return the information regarding the graph"
   ]
  },
  {
   "cell_type": "code",
   "execution_count": 13,
   "metadata": {},
   "outputs": [
    {
     "name": "stdout",
     "output_type": "stream",
     "text": [
      "Name: \n",
      "Type: DiGraph\n",
      "Number of nodes: 461193\n",
      "Number of edges: 2645247\n",
      "Average in degree:   5.7357\n",
      "Average out degree:   5.7357\n"
     ]
    }
   ],
   "source": [
    "# Graph from data: \n",
    "G1=nx.DiGraph() # Create an empty direct graph with no nodes and no edges\n",
    "G1.add_edges_from(data) #we add edges from our list\n",
    "print(nx.info(G1)) #return the information regarding the graph"
   ]
  },
  {
   "cell_type": "markdown",
   "metadata": {},
   "source": [
    "##### Handmade:\n",
    "1) `Number of nodes`: to get this number we have taken two lists, one containing all the starting nodes and the other containing all the arrival nodes. Obviously, within these lists there can be repetitions since from a node can start more than one edge then we take the unique values (eliminating the duplicates) thanks to the *set*. Since a node can be both,souce and destination, we get the *union* between the two sets. The union returns the nodes that belong to both the set taken only once and the nodes that belong to a set but not to the other. At this point, if we count the number of elements in *all_nodes* we have obtained the number of nodes of our graph.\n",
    "\n",
    "2) `Number of edges`: since inside our dataframe each row represents an edge, to obtain the number of edges it is sufficient to count the number of rows of the dataframe.\n",
    "\n",
    "3) `The average node degree`: in the case of directed graph the average degree (recall that *the degree k of a vertex is the number of edges connecting it*) is $\\langle k \\rangle = \\frac{E}{N}$ where $E$ is the number of edges and $N$ is the number of nodes."
   ]
  },
  {
   "cell_type": "code",
   "execution_count": 14,
   "metadata": {},
   "outputs": [
    {
     "name": "stdout",
     "output_type": "stream",
     "text": [
      "461193 is the initial number of nodes from the txt file while 461178 is the number of current nodes (after the check on the categories).\n"
     ]
    }
   ],
   "source": [
    "# Graph from new_data: \n",
    "source = df1['Source'].tolist()\n",
    "destination = df1['Destination'].tolist()\n",
    "#len(destination) == len(source) -> return True\n",
    "\n",
    "source = set(source)\n",
    "destination = set(destination)\n",
    "all_nodes = source.union(destination)\n",
    "nodes = len(all_nodes)\n",
    "\n",
    "# Graph from data: \n",
    "s = df['Source'].tolist()\n",
    "d = df['Destination'].tolist()\n",
    "\n",
    "print('{} is the initial number of nodes from the txt file'.format(len(set(s).union(set(d)))),\n",
    "      'while {} is the number of current nodes (after the check on the categories).'.format(nodes))"
   ]
  },
  {
   "cell_type": "code",
   "execution_count": 15,
   "metadata": {},
   "outputs": [
    {
     "data": {
      "text/plain": [
       "2645160"
      ]
     },
     "execution_count": 15,
     "metadata": {},
     "output_type": "execute_result"
    }
   ],
   "source": [
    "edges = len(df1.index)\n",
    "edges"
   ]
  },
  {
   "cell_type": "code",
   "execution_count": 16,
   "metadata": {},
   "outputs": [
    {
     "data": {
      "text/plain": [
       "5.7357"
      ]
     },
     "execution_count": 16,
     "metadata": {},
     "output_type": "execute_result"
    }
   ],
   "source": [
    "def average_degree(N,E):\n",
    "    return E/N\n",
    "\n",
    "round(average_degree(nodes,edges),4)"
   ]
  },
  {
   "cell_type": "markdown",
   "metadata": {},
   "source": [
    "We can graph the distribution of degree:\n",
    "\n",
    "As we can see from the first graph, the concentration is in the first 80/100 so we prefer to do an analysis focused on it and we'll make it in the second graph. "
   ]
  },
  {
   "cell_type": "code",
   "execution_count": 17,
   "metadata": {},
   "outputs": [
    {
     "data": {
      "image/png": "[encoded data removed]",
      "text/plain": [
       "<Figure size 864x792 with 2 Axes>"
      ]
     },
     "metadata": {},
     "output_type": "display_data"
    }
   ],
   "source": [
    "adjacency_m = nx.adjacency_matrix(G) #Adjacency Matrix\n",
    "\n",
    "fig = plt.subplots(figsize=(12,11))\n",
    "\n",
    "plt.subplot(2, 2, 1)\n",
    "degrees = np.array(adjacency_m.sum(axis=1)).squeeze()\n",
    "plt.title('Degree distribution')\n",
    "plt.hist(degrees, bins = 50, facecolor='green')\n",
    "\n",
    "plt.subplot(2, 2, 2)\n",
    "degrees_truncated = degrees[degrees < 100]\n",
    "plt.title('Truncated degree distribution')\n",
    "plt.hist(degrees_truncated, facecolor='green', bins = 50)\n",
    "\n",
    "plt.show()"
   ]
  },
  {
   "cell_type": "markdown",
   "metadata": {},
   "source": [
    "The last question we have yet to answer is: ***Is the graph dense?***\n",
    "\n",
    "A *dense graph* is a graph in which the number of edges is close to the maximum number of edges (if we have $N$ nodes there are $N - 1$ directed edges than can lead from it; therefore, the maximum number of edges is $N\\times(N - 1)$). While a graph with few edges is a *sparse graph*.\n",
    "\n",
    "The density for directed graphs is: $$d = \\frac{E}{N(N-1)}$$\n",
    "where $N$ and $E$ are respectively, the number of nodes and the number of edges in the graph"
   ]
  },
  {
   "cell_type": "code",
   "execution_count": 18,
   "metadata": {},
   "outputs": [
    {
     "data": {
      "text/plain": [
       "1.2437002604441754e-05"
      ]
     },
     "execution_count": 18,
     "metadata": {},
     "output_type": "execute_result"
    }
   ],
   "source": [
    "#handmade:\n",
    "def density(E,N):\n",
    "    E = float(E)\n",
    "    N = float(N)\n",
    "    return E/(N*(N-1))\n",
    "\n",
    "density(edges,nodes)"
   ]
  },
  {
   "cell_type": "code",
   "execution_count": 19,
   "metadata": {},
   "outputs": [
    {
     "data": {
      "text/plain": [
       "1.2437002604441754e-05"
      ]
     },
     "execution_count": 19,
     "metadata": {},
     "output_type": "execute_result"
    }
   ],
   "source": [
    "# with networkx:\n",
    "nx.density(G)"
   ]
  },
  {
   "cell_type": "markdown",
   "metadata": {},
   "source": [
    "The density is 0 for a graph without edges and 1 for a complete graph; also, the density of multigraphs or graphs with self loops can be higher than 1. In our case, the density is almost zero therefore, the the graph is not dense."
   ]
  },
  {
   "cell_type": "markdown",
   "metadata": {},
   "source": [
    "**---------------------------------------------------------------------------------------------------------------**"
   ]
  },
  {
   "cell_type": "markdown",
   "metadata": {},
   "source": [
    "**[RQ2]** Given a category $C_0 = \\{article_1, article_2, \\dots \\}$ as input we want to rank all of the nodes in V according to the following criteria:\n",
    "\n",
    "+ Obtain a block-ranking, where the blocks are represented by the categories. In particular, we want:\n",
    "\n",
    "$$block_{RANKING} =\\begin{bmatrix} C_0 \\\\ C_1 \\\\ \\dots \\\\ C_c\\\\ \\end{bmatrix}$$\n",
    "\n",
    "Each category corresponds to a list of nodes.\n",
    "The first category of the rank, $C_0$ , always corresponds to the input category. The order of the remaining categories is given by:\n",
    "\n",
    "$$distance(C_0, C_i) = median(ShortestPath(C_0, C_i))$$\n",
    "\n",
    "The lower is the distance from $C_0$, the higher is the $C_i$ position in the rank. \n",
    "$ShortestPath(C_0, C_i)$ is the set of all the possible shortest paths between the nodes of $C_0$ and $C_i$ . Moreover, the length of a path is given by the sum of the weights of the edges it is composed by.\n",
    "\n",
    "+ Once you obtain the $[block_{RANKING}]$ vector, you want to sort the nodes in each category. The way you should sort them is explained by this example:\n",
    "+ Suppose the categories order, given from the previous point, is $[C_0, C_1, C_2]$\n",
    "\n",
    "** --------------------------------------------------------------------------------------------------------------------------------------------------**"
   ]
  },
  {
   "cell_type": "markdown",
   "metadata": {},
   "source": [
    "### In this question, we have chosen Dijkstra algorithm to find the shortest paths between the categories:\n",
    "**Algorithm:**\n",
    "+  Create a dictionary of distance between source and all other nodes in the graph, with initial values Infinity \"np.Inf\" for all nodes except the initial node 'source', set distance 0.\n",
    "+  For the current node, consider all of its neighbors and calculate their tentative distances through the current node. Compare the newly calculated tentative distance to the current assigned value and assign the smaller one. \n",
    "+  When we are done considering all of the neighbors of the current node, we select the node that is marked with the smallest tentative distance, set it as the new \"current node\", and go back to step 2.\n",
    "+  Repeat until finding the shortest paths between source and all other nodes in the graph.\n",
    "\n",
    "First, we find all shortest paths between each node of the input category, we chose **'American Jews'** as an input category, and all other nodes in the graph, then store them in a pickle file related to each node. So each node hae a  pickle file contain the shortest paths between it and all other nodes in the graph.\n",
    "Then, for each category, we find the median of all shortest paths between nodes of input category and its nodes."
   ]
  },
  {
   "cell_type": "markdown",
   "metadata": {},
   "source": [
    "#### Checking the number of nodes in each category, and then choose one of the smallest categories as an input category:"
   ]
  },
  {
   "cell_type": "code",
   "execution_count": 26,
   "metadata": {
    "scrolled": true
   },
   "outputs": [
    {
     "name": "stdout",
     "output_type": "stream",
     "text": [
      "English_footballers:9237\n",
      "The_Football_League_players:3357\n",
      "Association_football_forwards:4819\n",
      "Association_football_goalkeepers:3047\n",
      "Association_football_midfielders:6028\n",
      "Association_football_defenders:4587\n",
      "Living_people:335400\n",
      "Year_of_birth_unknown:3479\n",
      "Harvard_University_alumni:2516\n",
      "Major_League_Baseball_pitchers:2833\n",
      "Members_of_the_United_Kingdom_Parliament_for_English_constituencies:6541\n",
      "Indian_films:5739\n",
      "Year_of_death_missing:6830\n",
      "English_cricketers:2141\n",
      "Year_of_birth_missing_(living_people):33513\n",
      "Rivers_of_Romania:7729\n",
      "Main_Belt_asteroids:13703\n",
      "Asteroids_named_for_people:442\n",
      "English-language_albums:4853\n",
      "English_television_actors:3319\n",
      "British_films:4551\n",
      "English-language_films:19074\n",
      "American_films:4659\n",
      "Fellows_of_the_Royal_Society:3388\n",
      "People_from_New_York_City:3663\n",
      "American_Jews:3542\n",
      "American_television_actors:11231\n",
      "American_film_actors:4802\n",
      "Debut_albums:7462\n",
      "Black-and-white_films:4917\n",
      "Year_of_birth_missing:3846\n",
      "Place_of_birth_missing_(living_people):3422\n",
      "Article_Feedback_Pilot:3468\n",
      "American_military_personnel_of_World_War_II:3607\n",
      "Windows_games:4506\n"
     ]
    }
   ],
   "source": [
    "for key in cat_data.keys():\n",
    "    print(key+':'+str(len(cat_data[key])))"
   ]
  },
  {
   "cell_type": "code",
   "execution_count": 20,
   "metadata": {},
   "outputs": [
    {
     "name": "stdout",
     "output_type": "stream",
     "text": [
      "Enter a category: American_Jews\n"
     ]
    }
   ],
   "source": [
    "cat_input = input('Enter a category: ')"
   ]
  },
  {
   "cell_type": "markdown",
   "metadata": {},
   "source": [
    "#### We chose \"American Jews\"that contain '3542' nodes as an input category\n",
    "\n",
    "Obviously, you can choose one of the 35 categories as input category, the algorithm will work anyway, producing different results."
   ]
  },
  {
   "cell_type": "markdown",
   "metadata": {},
   "source": [
    "### Dijksra Algorithm"
   ]
  },
  {
   "cell_type": "code",
   "execution_count": 3,
   "metadata": {},
   "outputs": [],
   "source": [
    "from pythonds.graphs import PriorityQueue, Graph, Vertex\n",
    "\n",
    "\"\"\"This is the function of Dijkstra algorithm\"\"\"\n",
    "def dijkstra(graph,start):\n",
    "    pq = PriorityQueue()\n",
    "    dist=dict()# a dictionary contain all the smallest paths from the start node to all other nodes in the graph. \n",
    "    for v in graph:\n",
    "        dist[v]=np.Inf # set Infinity to all nodes' distance except the source node\n",
    "    dist[start]=0 # set 0 to the distance of the source node\n",
    "    pq.buildHeap([(dist[v],v) for v in graph])# heap that will store in the nodes and distance\n",
    "    while not pq.isEmpty():\n",
    "        current_node = pq.delMin() # select the node with the smallest distance\n",
    "        for next_node in graph.neighbors(current_node): # for each node in current node neighbors\n",
    "            new_dist = dist[current_node]+1 # calculate the new distance\n",
    "            if new_dist < dist[next_node]: # if the new distance smaller than old one \n",
    "                dist[next_node]=new_dist # node distance=new one\n",
    "                pq.decreaseKey(next_node,new_dist) #moves to next node\n",
    "    # removing nodes that its distance = Infinity, that meaning there is no path between source and this node\n",
    "    new_dist=dict()\n",
    "    for key in dist.keys():\n",
    "        if dist[key]!=np.Inf:\n",
    "            new_dist[key]=dist[key]\n",
    "    return new_dist\n",
    "\n",
    "\"\"\"This function is to calculate the shortest paths between nodes that belong to input category and \n",
    "all other nodes in the graph\"\"\"\n",
    "def all_shortest_paths(graph,cat_data):\n",
    "    all_shortest_paths=[]\n",
    "    category_input_nodes=list(cat_data['American_Jews'])#our input category is American Jews\n",
    "    #category_input_nodes=list(cat_data['cat_input'])\n",
    "    category_input_nodes[len(category_input_nodes)-1]=category_input_nodes[len(category_input_nodes)-1].replace('\\n','')\n",
    "    for node1 in category_input_nodes:\n",
    "        dist=dict()\n",
    "        if node1 in graph:\n",
    "            dist[node1]=dijkstra(graph, node1)# calculate the shortest paths of each node and store tham in a pickle file\n",
    "            with open('filename'+node1+'.pickle', 'wb') as handle:\n",
    "                 pickle.dump(dist, handle, protocol=pickle.HIGHEST_PROTOCOL)"
   ]
  },
  {
   "cell_type": "markdown",
   "metadata": {},
   "source": [
    "#### To check if our algorithm working correctly, we compare between it and networkx algorithm."
   ]
  },
  {
   "cell_type": "markdown",
   "metadata": {},
   "source": [
    "**Graph example:**"
   ]
  },
  {
   "cell_type": "code",
   "execution_count": 4,
   "metadata": {},
   "outputs": [],
   "source": [
    "G=nx.DiGraph() \n",
    "G.add_edges_from([['52', '401135'],\n",
    " ['52', '1069112'],\n",
    " ['52', '1163551'],\n",
    " ['62', '12162'],\n",
    " ['62', '167659'],\n",
    " ['62', '279122'],\n",
    " ['62', '1089199'],\n",
    " ['62', '1354553'],\n",
    " ['62', '1400636'],\n",
    " ['62', '1403619'],\n",
    " ['52', '62'],\n",
    " ['52', '12162']])"
   ]
  },
  {
   "cell_type": "markdown",
   "metadata": {},
   "source": [
    "**Implementation of our algorithm:**"
   ]
  },
  {
   "cell_type": "code",
   "execution_count": 23,
   "metadata": {},
   "outputs": [
    {
     "name": "stdout",
     "output_type": "stream",
     "text": [
      "--- 0.0 seconds ---\n"
     ]
    },
    {
     "data": {
      "text/plain": [
       "{'1069112': 1,\n",
       " '1089199': 2,\n",
       " '1163551': 1,\n",
       " '12162': 1,\n",
       " '1354553': 2,\n",
       " '1400636': 2,\n",
       " '1403619': 2,\n",
       " '167659': 2,\n",
       " '279122': 2,\n",
       " '401135': 1,\n",
       " '52': 0,\n",
       " '62': 1}"
      ]
     },
     "execution_count": 23,
     "metadata": {},
     "output_type": "execute_result"
    }
   ],
   "source": [
    "'''our algorithm'''\n",
    "start_time = time.time()\n",
    "ours_d=dijkstra(G,'52')\n",
    "print(\"--- %s seconds ---\" % (time.time() - start_time))\n",
    "ours_d"
   ]
  },
  {
   "cell_type": "markdown",
   "metadata": {},
   "source": [
    "**Implementation of networkx algorithm:**"
   ]
  },
  {
   "cell_type": "code",
   "execution_count": 25,
   "metadata": {},
   "outputs": [
    {
     "name": "stdout",
     "output_type": "stream",
     "text": [
      "--- 0.0 seconds ---\n"
     ]
    },
    {
     "data": {
      "text/plain": [
       "{'1069112': 1,\n",
       " '1089199': 2,\n",
       " '1163551': 1,\n",
       " '12162': 1,\n",
       " '1354553': 2,\n",
       " '1400636': 2,\n",
       " '1403619': 2,\n",
       " '167659': 2,\n",
       " '279122': 2,\n",
       " '401135': 1,\n",
       " '52': 0,\n",
       " '62': 1}"
      ]
     },
     "execution_count": 25,
     "metadata": {},
     "output_type": "execute_result"
    }
   ],
   "source": [
    "'''networkx algorithm'''\n",
    "start_time = time.time()\n",
    "net_d=nx.shortest_path_length(G, '52',None)\n",
    "print(\"--- %s seconds ---\" % (time.time() - start_time))\n",
    "net_d"
   ]
  },
  {
   "cell_type": "markdown",
   "metadata": {},
   "source": [
    "                      We got same results, and it is fast, so our algorithm working well."
   ]
  },
  {
   "cell_type": "markdown",
   "metadata": {},
   "source": [
    "Get meadian of all shortest paths between the input category and all other categories\n",
    "$$distance(C_0, C_i) = median(ShortestPath(C_0, C_i))$$"
   ]
  },
  {
   "cell_type": "markdown",
   "metadata": {},
   "source": [
    "First, we will get all shortest paths between each node of C0 to all other nodes in the graph"
   ]
  },
  {
   "cell_type": "code",
   "execution_count": null,
   "metadata": {},
   "outputs": [],
   "source": [
    "#calling the function to find the shortest paths and store them in pickle files\n",
    "all_shortest_paths(G,cat_data)"
   ]
  },
  {
   "cell_type": "code",
   "execution_count": 27,
   "metadata": {},
   "outputs": [],
   "source": [
    "\"\"\"This function is to get the median of all shortest paths between C0 and Ci\"\"\"\n",
    "def get_shortest_paths_between_two_category(cat_data,category_target):\n",
    "    all_shortest_path=[]# a list of all shortest paths between C0 and each Ci\n",
    "    median=0\n",
    "    inf=0\n",
    "    dist=dict()\n",
    "    category_input_nodes=list(cat_data['American_Jews'])# our C0 is American Jews category\n",
    "    category_input_nodes[len(category_input_nodes)-1]=category_input_nodes[len(category_input_nodes)-1].replace('\\n','')\n",
    "    category_target_nodes=list(cat_data[category_target])#Ci\n",
    "    category_target_nodes[len(category_target_nodes)-1]=category_target_nodes[len(category_target_nodes)-1].replace('\\n','')\n",
    "    for node1 in category_input_nodes: # for each node in C0\n",
    "        if node1 in G:#check if the node is in the graph just to be sure\n",
    "            try:\n",
    "                with open('filename'+node1+'.pickle', 'rb') as handle:\n",
    "                    dist = pickle.load(handle)# distance between node of C0 and all other nodes in the graph\n",
    "                    for node2 in category_target_nodes:#for each node in Ci\n",
    "                        if node2 in G and node2 in dist[node1].keys():# if there is a path between the two nodes\n",
    "                            all_shortest_path.append(dist[node1][node2])#append the distance between the two nodes in all shortest paths list\n",
    "                        elif node2 in G and node2 not in dist[node1].keys():# if there is no path between nodes \n",
    "                            inf+=1#increase the infinity values count    \n",
    "            except:\n",
    "                continue\n",
    "    return sorted(all_shortest_path),inf# return the sorted shortest paths and the infinity values number between C0 and Ci\n",
    "\n",
    "\"\"\"This function is calling previous function to get the sorted shortest paths list and the number of infinty values\n",
    "number between C0 and Ci\"\"\"                \n",
    "def get_all_shortest_paths(G,cat_data):\n",
    "    median=dict()\n",
    "    for category in cat_data.keys():# for each category Ci get the sorted shortest paths and the number of infinty values\n",
    "        if category!='American_Jews':#American Jews is our input category\n",
    "            shortest,inf=get_shortest_paths_between_two_category(G,cat_data,category)#get the sorted shortest paths and the infinity values count\n",
    "            with open(''+category+'short.pickle', 'wb') as handle1:\n",
    "                pickle.dump(shortest, handle1, protocol=pickle.HIGHEST_PROTOCOL)#store the shortest paths of each category\n",
    "                handle1.close()\n",
    "            with open(''+category+'inff.pickle', 'wb') as handle2:#store the infinity values number of each category\n",
    "                pickle.dump(inf, handle2, protocol=pickle.HIGHEST_PROTOCOL)\n",
    "                handle2.close()\n",
    "            shortest=None\n",
    "            del shortest    \n",
    "            \n",
    "\n",
    "### calling the function to get the shortest paths and infinity values number between C0 and all Ci\n",
    "get_all_shortest_paths(cat_data)"
   ]
  },
  {
   "cell_type": "markdown",
   "metadata": {},
   "source": [
    "Now, while we got the sorted shortest paths and the inifity values number between C0 and each Ci, then we will check if the inifity values number is larger than the number of shortest paths, so the median will be Infinity, otherwise we will get the number that is fall in the middle of the [shortest paths+infinity values] list, considering the length of the list is the number of the shortest paths plus the infinity values number, if the length is odd, or we will sum the two numbers that fall in the middle of the list and divide it on 2 to get the median.\n",
    "The formula of the median is:\n",
    "+ if the count of the  numbers is odd, then:\n",
    "$$median(a)=a[length(a)/2]$$\n",
    "+ if the count of the  numbers is even, then:\n",
    "$$median(a)=(a[length(a)/2]+a[length(a)/2+1])/2$$"
   ]
  },
  {
   "cell_type": "markdown",
   "metadata": {},
   "source": [
    "**Again the length of the list is number of shortest paths between $C_0$ and $C_i$ + infinity values number between $C_0$ and $C_i$**"
   ]
  },
  {
   "cell_type": "code",
   "execution_count": 18,
   "metadata": {},
   "outputs": [],
   "source": [
    "median=dict()\n",
    "for category in cat_data.keys():\n",
    "    with open(''+category+'short.pickle', 'rb') as handle1:\n",
    "        shortest=pickle.load(handle1)\n",
    "    with open(''+category+'inff.pickle', 'rb') as handle2:\n",
    "        inf=pickle.load(handle2)\n",
    "    if len(shortest)<inf:#if the infinity values number is larger than length of shortest paths\n",
    "        median[category]=np.Inf#then the median is Infinity\n",
    "    elif (len(shortest)+inf)%2==0:#check if the length of the whole list is even\n",
    "        median[category]=(shortest[int((len(shortest)+inf)/2)]+shortest[int((len(shortest)+inf)/2)+1])/2#second formula\n",
    "    else:#the length of the whole list is odd\n",
    "        median[category]=float(shortest[int((len(shortest)+inf)/2)])#first formula"
   ]
  },
  {
   "cell_type": "code",
   "execution_count": 34,
   "metadata": {},
   "outputs": [],
   "source": [
    "with open('median.pickle', 'wb') as handle:\n",
    "                 pickle.dump(median, handle, protocol=pickle.HIGHEST_PROTOCOL)"
   ]
  },
  {
   "cell_type": "code",
   "execution_count": 32,
   "metadata": {},
   "outputs": [],
   "source": [
    "with open('median.pickle', 'rb') as handle:\n",
    "    median = pickle.load(handle)"
   ]
  },
  {
   "cell_type": "markdown",
   "metadata": {},
   "source": [
    "### Obtaining a block-ranking\n",
    "$$block_{RANKING} =\\begin{bmatrix} C_0 \\\\ C_1 \\\\ \\dots \\\\ C_c\\\\ \\end{bmatrix}$$\n",
    "Now, we got the median and we need just to sort them to obtain the blocking ranking and save it in a pickle file"
   ]
  },
  {
   "cell_type": "code",
   "execution_count": 36,
   "metadata": {},
   "outputs": [],
   "source": [
    "import operator\n",
    "block_ranking = sorted(median.items(), key=operator.itemgetter(1))"
   ]
  },
  {
   "cell_type": "code",
   "execution_count": 37,
   "metadata": {},
   "outputs": [],
   "source": [
    "with open('block_ranking.pickle', 'wb') as handle:\n",
    "                 pickle.dump(block_ranking, handle, protocol=pickle.HIGHEST_PROTOCOL)"
   ]
  },
  {
   "cell_type": "code",
   "execution_count": 29,
   "metadata": {},
   "outputs": [],
   "source": [
    "with open('block_ranking.pickle', 'rb') as handle:\n",
    "    block_ranking = pickle.load(handle)"
   ]
  },
  {
   "cell_type": "code",
   "execution_count": 30,
   "metadata": {},
   "outputs": [
    {
     "data": {
      "text/plain": [
       "[('American_Jews', 0),\n",
       " ('British_films', 5.0),\n",
       " ('English-language_films', 5.0),\n",
       " ('American_films', 5.0),\n",
       " ('American_television_actors', 5.0),\n",
       " ('American_film_actors', 5.0),\n",
       " ('Black-and-white_films', 5.0),\n",
       " ('English_footballers', 6.0),\n",
       " ('Members_of_the_United_Kingdom_Parliament_for_English_constituencies', 6.0),\n",
       " ('Indian_films', 6.0),\n",
       " ('Year_of_birth_missing_(living_people)', 6.0),\n",
       " ('Rivers_of_Romania', 6.0),\n",
       " ('English-language_albums', 6.0),\n",
       " ('English_television_actors', 6.0),\n",
       " ('People_from_New_York_City', 6.0),\n",
       " ('Place_of_birth_missing_(living_people)', 6.0),\n",
       " ('American_military_personnel_of_World_War_II', 6.0),\n",
       " ('Fellows_of_the_Royal_Society', 7.0),\n",
       " ('Article_Feedback_Pilot', 7.0),\n",
       " ('The_Football_League_players', 8.0),\n",
       " ('Windows_games', 8.0),\n",
       " ('Association_football_forwards', inf),\n",
       " ('Association_football_goalkeepers', inf),\n",
       " ('Association_football_midfielders', inf),\n",
       " ('Association_football_defenders', inf),\n",
       " ('Living_people', inf),\n",
       " ('Year_of_birth_unknown', inf),\n",
       " ('Harvard_University_alumni', inf),\n",
       " ('Major_League_Baseball_pitchers', inf),\n",
       " ('Year_of_death_missing', inf),\n",
       " ('English_cricketers', inf),\n",
       " ('Main_Belt_asteroids', inf),\n",
       " ('Asteroids_named_for_people', inf),\n",
       " ('Debut_albums', inf),\n",
       " ('Year_of_birth_missing', inf)]"
      ]
     },
     "execution_count": 30,
     "metadata": {},
     "output_type": "execute_result"
    }
   ],
   "source": [
    "block_ranking"
   ]
  },
  {
   "cell_type": "markdown",
   "metadata": {},
   "source": [
    "**We notice that there are many categories are equal in distance, so to rank these categories we will add 1 - the rate of nodes that connect $C_0$ to $C_i$, to the block ranking dictionary and re order it, so the one with higher rate of nodes that connect $C_0$ to $C_i$ will have higher rank**"
   ]
  },
  {
   "cell_type": "code",
   "execution_count": 75,
   "metadata": {},
   "outputs": [],
   "source": [
    "\"\"\"Re-order block ranking\"\"\"\n",
    "new_block_ranking=dict()\n",
    "for category in median.keys():\n",
    "    new_block_ranking[category]=[]\n",
    "    with open(''+category+'short.pickle', 'rb') as handle1:\n",
    "        s=pickle.load(handle1)\n",
    "    with open(''+category+'inff.pickle', 'rb') as handle2:\n",
    "        f=pickle.load(handle2)\n",
    "    new_block_ranking[category]=[median[category],np.round(1-len(s)/(len(s)+f),2)]"
   ]
  },
  {
   "cell_type": "code",
   "execution_count": 96,
   "metadata": {},
   "outputs": [
    {
     "data": {
      "text/plain": [
       "{'American_Jews': [0, 0.0],\n",
       " 'American_film_actors': [5.0, 0.13],\n",
       " 'American_films': [5.0, 0.03],\n",
       " 'American_military_personnel_of_World_War_II': [6.0, 0.46],\n",
       " 'American_television_actors': [5.0, 0.13],\n",
       " 'Article_Feedback_Pilot': [7.0, 0.39],\n",
       " 'Association_football_defenders': [inf, 0.81],\n",
       " 'Association_football_forwards': [inf, 0.9],\n",
       " 'Association_football_goalkeepers': [inf, 1.0],\n",
       " 'Association_football_midfielders': [inf, 0.88],\n",
       " 'Asteroids_named_for_people': [inf, 0.71],\n",
       " 'Black-and-white_films': [5.0, 0.27],\n",
       " 'British_films': [5.0, 0.03],\n",
       " 'Debut_albums': [inf, 0.78],\n",
       " 'English-language_albums': [6.0, 0.32],\n",
       " 'English-language_films': [5.0, 0.03],\n",
       " 'English_cricketers': [inf, 0.76],\n",
       " 'English_footballers': [6.0, 0.34],\n",
       " 'English_television_actors': [6.0, 0.31],\n",
       " 'Fellows_of_the_Royal_Society': [7.0, 0.39],\n",
       " 'Harvard_University_alumni': [inf, 0.52],\n",
       " 'Indian_films': [6.0, 0.14],\n",
       " 'Living_people': [inf, 0.76],\n",
       " 'Main_Belt_asteroids': [inf, 0.88],\n",
       " 'Major_League_Baseball_pitchers': [inf, 1.0],\n",
       " 'Members_of_the_United_Kingdom_Parliament_for_English_constituencies': [6.0,\n",
       "  0.23],\n",
       " 'People_from_New_York_City': [6.0, 0.23],\n",
       " 'Place_of_birth_missing_(living_people)': [6.0, 0.39],\n",
       " 'Rivers_of_Romania': [6.0, 0.03],\n",
       " 'The_Football_League_players': [8.0, 0.42],\n",
       " 'Windows_games': [8.0, 0.46],\n",
       " 'Year_of_birth_missing': [inf, 0.52],\n",
       " 'Year_of_birth_missing_(living_people)': [6.0, 0.27],\n",
       " 'Year_of_birth_unknown': [inf, 0.86],\n",
       " 'Year_of_death_missing': [inf, 0.86]}"
      ]
     },
     "execution_count": 96,
     "metadata": {},
     "output_type": "execute_result"
    }
   ],
   "source": [
    "new_block_ranking"
   ]
  },
  {
   "cell_type": "code",
   "execution_count": 97,
   "metadata": {},
   "outputs": [],
   "source": [
    "import operator\n",
    "new_block_ranking2 = sorted(new_block_ranking.items(), key=operator.itemgetter(1))"
   ]
  },
  {
   "cell_type": "code",
   "execution_count": 98,
   "metadata": {},
   "outputs": [
    {
     "data": {
      "text/plain": [
       "[('American_Jews', [0, 0.0]),\n",
       " ('British_films', [5.0, 0.03]),\n",
       " ('English-language_films', [5.0, 0.03]),\n",
       " ('American_films', [5.0, 0.03]),\n",
       " ('American_television_actors', [5.0, 0.13]),\n",
       " ('American_film_actors', [5.0, 0.13]),\n",
       " ('Black-and-white_films', [5.0, 0.27]),\n",
       " ('Rivers_of_Romania', [6.0, 0.03]),\n",
       " ('Indian_films', [6.0, 0.14]),\n",
       " ('Members_of_the_United_Kingdom_Parliament_for_English_constituencies',\n",
       "  [6.0, 0.23]),\n",
       " ('People_from_New_York_City', [6.0, 0.23]),\n",
       " ('Year_of_birth_missing_(living_people)', [6.0, 0.27]),\n",
       " ('English_television_actors', [6.0, 0.31]),\n",
       " ('English-language_albums', [6.0, 0.32]),\n",
       " ('English_footballers', [6.0, 0.34]),\n",
       " ('Place_of_birth_missing_(living_people)', [6.0, 0.39]),\n",
       " ('American_military_personnel_of_World_War_II', [6.0, 0.46]),\n",
       " ('Fellows_of_the_Royal_Society', [7.0, 0.39]),\n",
       " ('Article_Feedback_Pilot', [7.0, 0.39]),\n",
       " ('The_Football_League_players', [8.0, 0.42]),\n",
       " ('Windows_games', [8.0, 0.46]),\n",
       " ('Harvard_University_alumni', [inf, 0.52]),\n",
       " ('Year_of_birth_missing', [inf, 0.52]),\n",
       " ('Asteroids_named_for_people', [inf, 0.71]),\n",
       " ('Living_people', [inf, 0.76]),\n",
       " ('English_cricketers', [inf, 0.76]),\n",
       " ('Debut_albums', [inf, 0.78]),\n",
       " ('Association_football_defenders', [inf, 0.81]),\n",
       " ('Year_of_birth_unknown', [inf, 0.86]),\n",
       " ('Year_of_death_missing', [inf, 0.86]),\n",
       " ('Association_football_midfielders', [inf, 0.88]),\n",
       " ('Main_Belt_asteroids', [inf, 0.88]),\n",
       " ('Association_football_forwards', [inf, 0.9]),\n",
       " ('Association_football_goalkeepers', [inf, 1.0]),\n",
       " ('Major_League_Baseball_pitchers', [inf, 1.0])]"
      ]
     },
     "execution_count": 98,
     "metadata": {},
     "output_type": "execute_result"
    }
   ],
   "source": [
    "\"\"\"here as example: 0.03 that meaning the rate of nodes that connect the two categoriws is 0.97 \"\"\"\n",
    "new_block_ranking2"
   ]
  },
  {
   "cell_type": "markdown",
   "metadata": {},
   "source": [
    "### Sorting the nodes in each category\n",
    "Once you obtain the block_ranking vector, you want to sort the nodes in each category. The way you should sort them is explained by this example:\n",
    "+ Each category corresponds to a list of nodes.\n",
    "+ Suppose the categories order, given from the previous point, is $C_0, C_1, C_2$"
   ]
  },
  {
   "cell_type": "code",
   "execution_count": 104,
   "metadata": {},
   "outputs": [],
   "source": [
    "for key in cat_data.keys():\n",
    "    cat_data[key]=sorted(cat_data[key])"
   ]
  },
  {
   "cell_type": "markdown",
   "metadata": {},
   "source": [
    "#### You will notice that one article might belong to a single category or multiple ones. In the case it belongs to more than one:\n",
    "+ If the article belongs to the input category (we will talk about this in RQ2) it belongs to that one.\n",
    "+ Otherwise, the category of the article will correspond, among the categories it belongs to, to the closest to the input category.\n",
    "\n",
    "#### To solve this issue:\n",
    "We create a dictionary that contain all nodes as keys and the categories that each node belong to as values, started from nodes in input category, and so on for each category in blocking ranking."
   ]
  },
  {
   "cell_type": "code",
   "execution_count": 105,
   "metadata": {},
   "outputs": [],
   "source": [
    "articles=dict()\n",
    "for item in new_block_ranking2:\n",
    "    for article in cat_data[item[0]]:\n",
    "        if article in articles:\n",
    "            articles[article].append(item[0])\n",
    "        else:\n",
    "            articles[article]=[item[0]]"
   ]
  },
  {
   "cell_type": "markdown",
   "metadata": {},
   "source": [
    "### Obtaining our new categories data and storing them in a pickle file"
   ]
  },
  {
   "cell_type": "markdown",
   "metadata": {},
   "source": [
    "For each node in articles dictionary if this node belong to more than one category, we keep it in the first category that it belong to and remove it from others, becase when we did the articles dictionary we started from input category and went ahead in blocking ranking, so we assign it the categories that it belong to in the same order of the distance of each category from input one"
   ]
  },
  {
   "cell_type": "code",
   "execution_count": 106,
   "metadata": {},
   "outputs": [],
   "source": [
    "for article in articles:\n",
    "    if len(articles[article])>1:\n",
    "        for category in articles[article][1:]:\n",
    "            cat_data[category].remove(article)"
   ]
  },
  {
   "cell_type": "code",
   "execution_count": 107,
   "metadata": {},
   "outputs": [],
   "source": [
    "with open('cat_data.pickle', 'wb') as handle:\n",
    "    pickle.dump(cat_data, handle, protocol=pickle.HIGHEST_PROTOCOL)"
   ]
  },
  {
   "cell_type": "code",
   "execution_count": 108,
   "metadata": {},
   "outputs": [],
   "source": [
    "with open('cat_data.pickle', 'rb') as handle:\n",
    "    cat_data = pickle.load(handle)"
   ]
  },
  {
   "cell_type": "code",
   "execution_count": 110,
   "metadata": {},
   "outputs": [],
   "source": [
    "cat_list=[]\n",
    "for item in new_block_ranking2:\n",
    "    cat_list.append(item[0])"
   ]
  },
  {
   "cell_type": "code",
   "execution_count": 112,
   "metadata": {},
   "outputs": [],
   "source": [
    "new_cat_data={}\n",
    "for category in cat_list:\n",
    "    new_cat_data[category]=cat_data[category]\n",
    "with open('new_cat_data.pickle', 'wb') as handle:\n",
    "    pickle.dump(new_cat_data, handle, protocol=pickle.HIGHEST_PROTOCOL)"
   ]
  },
  {
   "cell_type": "markdown",
   "metadata": {},
   "source": [
    "**------------------------------------------------------------------------------------------------------------------------**"
   ]
  },
  {
   "cell_type": "markdown",
   "metadata": {},
   "source": [
    "**[Step 1]**Compute subgraph induced by $C_0$ . For each node compute the sum of the weigths of the in-edges.\n",
    "$$score_{article_i} = \\sum_{j \\in in-edges(article_i)} w_j$$\n",
    "\n",
    "**[STEP 2]**Extend the graph to the nodes that belong to $C_1$ . Thus, for each article in $C_1$ compute the score as before. Note that the in-edges coming from the previous category, $C_0$ , have as weights the score of the node that sends the edge.\n",
    "\n",
    "**[STEP 3]**Repeat Step2 up to the last category of the ranking. In the last step of the example you clearly see the weight update of the edge coming from node E."
   ]
  },
  {
   "cell_type": "markdown",
   "metadata": {},
   "source": [
    "As we can read from the documentation, *“pickling” is the process whereby a Python object hierarchy is converted into a byte stream, and “unpickling” is the inverse operation, whereby a byte stream  is converted back into an object hierarchy*.\n",
    "\n",
    "Open the file we have previously made: within this file there is a dictionary with keys the 35 categories and as values the list of their articles / nodes."
   ]
  },
  {
   "cell_type": "code",
   "execution_count": 66,
   "metadata": {},
   "outputs": [],
   "source": [
    "# Load the dictionary back from the pickle file\n",
    "with open('new_cat_data.pickle', 'rb') as handle:\n",
    "    cat_data = pickle.load(handle) #Read a pickled object representation from the open file"
   ]
  },
  {
   "cell_type": "markdown",
   "metadata": {},
   "source": [
    "As we can see again, the number of categories we are considering is 35, i.e. all those categories that have passed the initial check (contain more than 3500 articles)."
   ]
  },
  {
   "cell_type": "code",
   "execution_count": 67,
   "metadata": {
    "scrolled": false
   },
   "outputs": [
    {
     "data": {
      "text/plain": [
       "35"
      ]
     },
     "execution_count": 67,
     "metadata": {},
     "output_type": "execute_result"
    }
   ],
   "source": [
    "len(cat_data)"
   ]
  },
  {
   "cell_type": "markdown",
   "metadata": {},
   "source": [
    "- `nx.to_dict_of_lists(G)`: return adjacency representation of graph as a dictionary of lists. We show, for example, the first value of d_edges:\n",
    "$$ d_{edges} = {\\{52:[401135, 1069112, 1163551],...}\\}$$"
   ]
  },
  {
   "cell_type": "code",
   "execution_count": 68,
   "metadata": {},
   "outputs": [],
   "source": [
    "d_edges = nx.to_dict_of_lists(G)"
   ]
  },
  {
   "cell_type": "markdown",
   "metadata": {},
   "source": [
    "** Now let's see in detail how we did steps 1,2,3 :**\n",
    "\n",
    "- `d = {}`: first we initialize an empty dictionary, which will then have as key the name of the category and as a value a dictionary that has all the nodes of that category and the weights associated with them. For example:  $d = \\{English footballers: \\{52: 3,1234:0\\},...\\}$\n",
    "\n",
    "    ***STEP 1***:\n",
    "    - `for i,cat in enumerate(cat_data)`: We scroll through our dictionary **cat_data** which has the categories as keys and as nodes the values associated to them. If the index `i` is 0 then it is of the $C_0$ category that we speak and then computes subgraph induced by $C_0$.\n",
    "    - `G.subgraph(cat_data[cat])`: the induced subgraph (*relating to the category that we consider from time to time*) of the graph contains the nodes in nodes and the edges between those nodes.\n",
    "    - `subgraph_C0.in_degree`: as we can read from the networkx documentation,the node in_degree is the number of edges pointing to the node. The weighted node degree is the sum of the edge weights for edges incident to that node.\n",
    "    - `d[cat][el[0]] = el[1]`: for each node in the category we associate its weight (*el[1]*).\n",
    "    \n",
    "    ***STEP 2/3***:\n",
    "    \n",
    "    The procedure we adopt now, is similar to what was done before (ie we calculate the subgraph related to the category and in_degree) but for each node of this category we are considering we must see if there are some in-edges that start from the nodes of the previous subgraph.\n",
    "    - For every node X in this category, we `try` to scroll all the nodes Y,Z,etc.. connected to X (`for n in d_edges[el[0]]`). If the nodes we are checking (Y,Z,..) are part of the previous subgraph then it means that at the node X of this subgraph there are also edges from the previous subgraph. In this case, the weight is not only the same as what we get from in_degree but we must add the weight obtained from the previous subgraph: `d[cat][el[0]] += d[i-1][n] + el[1]`.\n",
    "    - In the case in which we find no edges from nodes of the previous category (`except`), we associate as weight el[1] (as also done in step 1)."
   ]
  },
  {
   "cell_type": "code",
   "execution_count": 69,
   "metadata": {},
   "outputs": [],
   "source": [
    "d = {}\n",
    "for i,cat in enumerate(cat_data):\n",
    "    # STEP 1 \n",
    "    if i == 0:\n",
    "        d[cat] = {}\n",
    "        subgraph_C0 = G.subgraph(cat_data[cat]) \n",
    "        #The induced subgraph of the graph contains the nodes in nodes \n",
    "        #and the edges between those nodes.\n",
    "        #list(subgraph.edges) return example > [('A', 'B'), ('A', 'C'), ('B', 'C')]\n",
    "        #list(subgraph.nodes) > ['C', 'A', 'B']\n",
    "        for el in subgraph_C0.in_degree: #example return > InDegreeView({'C': 2, 'A': 0, 'B': 1})\n",
    "            d[cat][el[0]] = el[1] #el = ('C', 2) #el[0] = 'C' #el[1] = 2\n",
    "    # STEP 2-3\n",
    "    else:\n",
    "        d[cat] = {}\n",
    "        subgraph_C_i = G.subgraph(cat_data[cat]) \n",
    "       \n",
    "        for el in subgraph_C_i.in_degree:#example return > InDegreeView({'C': 2, 'A': 0, 'B': 1})\n",
    "            try:\n",
    "                for n in d_edges[el[0]]:\n",
    "                    if n in d[i-1].keys():\n",
    "                        d[cat][el[0]] += d[i-1][n] + el[1] #i-1 > previous category\n",
    "            except:\n",
    "                d[cat][el[0]] = el[1]"
   ]
  },
  {
   "cell_type": "code",
   "execution_count": 71,
   "metadata": {},
   "outputs": [],
   "source": [
    "#save our dictionary within a file\n",
    "with open('subgraph.pickle', 'wb') as handle:\n",
    "    pickle.dump(d, handle, protocol=pickle.HIGHEST_PROTOCOL)"
   ]
  },
  {
   "cell_type": "markdown",
   "metadata": {},
   "source": [
    "We saved the result in a file, which you can find in our repository if you are interested in seeing the weight associated with each node in each category."
   ]
  },
  {
   "cell_type": "code",
   "execution_count": 72,
   "metadata": {},
   "outputs": [
    {
     "data": {
      "text/plain": [
       "35"
      ]
     },
     "execution_count": 72,
     "metadata": {},
     "output_type": "execute_result"
    }
   ],
   "source": [
    "len(d) #Another check: the dictionary read all 35 categories."
   ]
  },
  {
   "cell_type": "markdown",
   "metadata": {},
   "source": [
    "**Ranking:**\n",
    "\n",
    "The next step is to sort the nodes within the categories from the largest to the smallest and then put them all together in one list."
   ]
  },
  {
   "cell_type": "code",
   "execution_count": 73,
   "metadata": {},
   "outputs": [],
   "source": [
    "d_descending = list()\n",
    "for cat in d:\n",
    "    d_descending.append(list(OrderedDict(sorted(d[cat].items(),\n",
    "                                                key=lambda kv: kv[1], reverse=True)).keys()))\n",
    "    \n",
    "rank=list(it.chain(*d_descending)) \n",
    "#because d_descending is a nested list, in this way we transform it into a one-dimensional list."
   ]
  },
  {
   "cell_type": "markdown",
   "metadata": {},
   "source": [
    "Now let's see the name of each node in our rank list:"
   ]
  },
  {
   "cell_type": "code",
   "execution_count": 75,
   "metadata": {},
   "outputs": [
    {
     "data": {
      "text/html": [
       "<div>\n",
       "<style scoped>\n",
       "    .dataframe tbody tr th:only-of-type {\n",
       "        vertical-align: middle;\n",
       "    }\n",
       "\n",
       "    .dataframe tbody tr th {\n",
       "        vertical-align: top;\n",
       "    }\n",
       "\n",
       "    .dataframe thead th {\n",
       "        text-align: right;\n",
       "    }\n",
       "</style>\n",
       "<table border=\"1\" class=\"dataframe\">\n",
       "  <thead>\n",
       "    <tr style=\"text-align: right;\">\n",
       "      <th></th>\n",
       "      <th>ID</th>\n",
       "      <th>Name</th>\n",
       "    </tr>\n",
       "  </thead>\n",
       "  <tbody>\n",
       "    <tr>\n",
       "      <th>0</th>\n",
       "      <td>0</td>\n",
       "      <td>Chiasmal syndrome</td>\n",
       "    </tr>\n",
       "    <tr>\n",
       "      <th>1</th>\n",
       "      <td>1</td>\n",
       "      <td>Kleroterion</td>\n",
       "    </tr>\n",
       "  </tbody>\n",
       "</table>\n",
       "</div>"
      ],
      "text/plain": [
       "  ID               Name\n",
       "0  0  Chiasmal syndrome\n",
       "1  1        Kleroterion"
      ]
     },
     "execution_count": 75,
     "metadata": {},
     "output_type": "execute_result"
    }
   ],
   "source": [
    "# Load the data:\n",
    "name = list(csv.reader(open('wiki-topcats-page-names.txt', 'r'),delimiter = ' '))\n",
    "# 'name' is a list in which each element is made up of the index associated with the node and its name\n",
    "\n",
    "#Now let's separate the indexes from the names and \n",
    "#then create a dataframe that has its own IDs and names as columns.\n",
    "article_and_name = list()\n",
    "for el in name:\n",
    "    id = el[0]\n",
    "    name_article = ' '.join(str(e) for e in el[1:])\n",
    "    article_and_name.append([el[0],name_article])\n",
    "df =pd.DataFrame(article_and_name) #transform into dataframe\n",
    "df.columns = ['ID', 'Name']\n",
    "df.head(2)"
   ]
  },
  {
   "cell_type": "code",
   "execution_count": 76,
   "metadata": {},
   "outputs": [
    {
     "data": {
      "text/html": [
       "<div>\n",
       "<style scoped>\n",
       "    .dataframe tbody tr th:only-of-type {\n",
       "        vertical-align: middle;\n",
       "    }\n",
       "\n",
       "    .dataframe tbody tr th {\n",
       "        vertical-align: top;\n",
       "    }\n",
       "\n",
       "    .dataframe thead th {\n",
       "        text-align: right;\n",
       "    }\n",
       "</style>\n",
       "<table border=\"1\" class=\"dataframe\">\n",
       "  <thead>\n",
       "    <tr style=\"text-align: right;\">\n",
       "      <th></th>\n",
       "      <th>Article</th>\n",
       "    </tr>\n",
       "  </thead>\n",
       "  <tbody>\n",
       "    <tr>\n",
       "      <th>0</th>\n",
       "      <td>1061960</td>\n",
       "    </tr>\n",
       "    <tr>\n",
       "      <th>1</th>\n",
       "      <td>1400463</td>\n",
       "    </tr>\n",
       "  </tbody>\n",
       "</table>\n",
       "</div>"
      ],
      "text/plain": [
       "   Article\n",
       "0  1061960\n",
       "1  1400463"
      ]
     },
     "execution_count": 76,
     "metadata": {},
     "output_type": "execute_result"
    }
   ],
   "source": [
    "#We insert our rank list within a data frame\n",
    "df1 = pd.DataFrame({'Article': rank})\n",
    "df1.head(2)"
   ]
  },
  {
   "cell_type": "markdown",
   "metadata": {},
   "source": [
    "We only show a small part of the final result, but if you are interested in seeing the complete output, we have saved it in a file that you can find in our repository."
   ]
  },
  {
   "cell_type": "code",
   "execution_count": 77,
   "metadata": {},
   "outputs": [
    {
     "data": {
      "text/html": [
       "<div>\n",
       "<style scoped>\n",
       "    .dataframe tbody tr th:only-of-type {\n",
       "        vertical-align: middle;\n",
       "    }\n",
       "\n",
       "    .dataframe tbody tr th {\n",
       "        vertical-align: top;\n",
       "    }\n",
       "\n",
       "    .dataframe thead th {\n",
       "        text-align: right;\n",
       "    }\n",
       "</style>\n",
       "<table border=\"1\" class=\"dataframe\">\n",
       "  <thead>\n",
       "    <tr style=\"text-align: right;\">\n",
       "      <th></th>\n",
       "      <th>Article</th>\n",
       "      <th>Name</th>\n",
       "    </tr>\n",
       "  </thead>\n",
       "  <tbody>\n",
       "    <tr>\n",
       "      <th>0</th>\n",
       "      <td>1061960</td>\n",
       "      <td>Steven Spielberg</td>\n",
       "    </tr>\n",
       "    <tr>\n",
       "      <th>1</th>\n",
       "      <td>1400463</td>\n",
       "      <td>American Jews</td>\n",
       "    </tr>\n",
       "    <tr>\n",
       "      <th>2</th>\n",
       "      <td>1092009</td>\n",
       "      <td>Albert Einstein</td>\n",
       "    </tr>\n",
       "    <tr>\n",
       "      <th>3</th>\n",
       "      <td>1163693</td>\n",
       "      <td>Marilyn Monroe</td>\n",
       "    </tr>\n",
       "    <tr>\n",
       "      <th>4</th>\n",
       "      <td>1163623</td>\n",
       "      <td>George Burns</td>\n",
       "    </tr>\n",
       "    <tr>\n",
       "      <th>5</th>\n",
       "      <td>1163814</td>\n",
       "      <td>Groucho Marx</td>\n",
       "    </tr>\n",
       "    <tr>\n",
       "      <th>6</th>\n",
       "      <td>1169029</td>\n",
       "      <td>Henry Kissinger</td>\n",
       "    </tr>\n",
       "    <tr>\n",
       "      <th>7</th>\n",
       "      <td>1163776</td>\n",
       "      <td>Jack Benny</td>\n",
       "    </tr>\n",
       "    <tr>\n",
       "      <th>8</th>\n",
       "      <td>1061192</td>\n",
       "      <td>Lee Strasberg</td>\n",
       "    </tr>\n",
       "    <tr>\n",
       "      <th>9</th>\n",
       "      <td>1061697</td>\n",
       "      <td>Mike Nichols</td>\n",
       "    </tr>\n",
       "  </tbody>\n",
       "</table>\n",
       "</div>"
      ],
      "text/plain": [
       "   Article              Name\n",
       "0  1061960  Steven Spielberg\n",
       "1  1400463     American Jews\n",
       "2  1092009   Albert Einstein\n",
       "3  1163693    Marilyn Monroe\n",
       "4  1163623      George Burns\n",
       "5  1163814      Groucho Marx\n",
       "6  1169029   Henry Kissinger\n",
       "7  1163776        Jack Benny\n",
       "8  1061192     Lee Strasberg\n",
       "9  1061697      Mike Nichols"
      ]
     },
     "execution_count": 77,
     "metadata": {},
     "output_type": "execute_result"
    }
   ],
   "source": [
    "ranking = df1.merge(df,left_on='Article', right_on='ID') #Merge the two dataframe\n",
    "ranking1 = ranking[['Article','Name']]\n",
    "ranking1.to_csv('ranking.csv') #save as csv file\n",
    "ranking1.head(10) #Show the first 10 elements."
   ]
  },
  {
   "cell_type": "markdown",
   "metadata": {},
   "source": [
    "Here we show for each category the two nodes with the greatest weight:"
   ]
  },
  {
   "cell_type": "code",
   "execution_count": 78,
   "metadata": {},
   "outputs": [
    {
     "name": "stdout",
     "output_type": "stream",
     "text": [
      "American_Jews ('1061960', 48)\n",
      "American_Jews ('1400463', 36)\n",
      "British_films ('1041937', 1500)\n",
      "British_films ('1253712', 15)\n",
      "English-language_films ('1063315', 66)\n",
      "English-language_films ('1061272', 60)\n",
      "American_films ('572855', 198)\n",
      "American_films ('1062319', 9)\n",
      "American_television_actors ('1061971', 154)\n",
      "American_television_actors ('1163665', 103)\n",
      "American_film_actors ('1061501', 139)\n",
      "American_film_actors ('1265360', 85)\n",
      "Black-and-white_films ('1065212', 7)\n",
      "Black-and-white_films ('1268561', 7)\n",
      "Rivers_of_Romania ('786913', 278)\n",
      "Rivers_of_Romania ('786295', 151)\n",
      "Indian_films ('582718', 31)\n",
      "Indian_films ('589341', 18)\n",
      "Members_of_the_United_Kingdom_Parliament_for_English_constituencies ('540950', 247)\n",
      "Members_of_the_United_Kingdom_Parliament_for_English_constituencies ('539587', 233)\n",
      "People_from_New_York_City ('1400222', 37)\n",
      "People_from_New_York_City ('1400399', 22)\n",
      "Year_of_birth_missing_(living_people) ('1156802', 17)\n",
      "Year_of_birth_missing_(living_people) ('1261640', 15)\n",
      "English_television_actors ('1062190', 136)\n",
      "English_television_actors ('1057903', 65)\n",
      "English-language_albums ('1181799', 35)\n",
      "English-language_albums ('1181800', 18)\n",
      "English_footballers ('81941', 88)\n",
      "English_footballers ('82322', 82)\n",
      "Place_of_birth_missing_(living_people) ('717605', 5)\n",
      "Place_of_birth_missing_(living_people) ('447536', 5)\n",
      "American_military_personnel_of_World_War_II ('1400484', 178)\n",
      "American_military_personnel_of_World_War_II ('1400478', 177)\n",
      "Fellows_of_the_Royal_Society ('1090186', 1456)\n",
      "Fellows_of_the_Royal_Society ('1079818', 106)\n",
      "Article_Feedback_Pilot ('279122', 888)\n",
      "Article_Feedback_Pilot ('896828', 278)\n",
      "The_Football_League_players ('81856', 56)\n",
      "The_Football_League_players ('81928', 41)\n",
      "Windows_games ('1738167', 54)\n",
      "Windows_games ('1738168', 48)\n",
      "Harvard_University_alumni ('1402045', 51)\n",
      "Harvard_University_alumni ('1400534', 32)\n",
      "Year_of_birth_missing ('1143580', 6)\n",
      "Year_of_birth_missing ('1008044', 5)\n",
      "Asteroids_named_for_people ('872828', 6)\n",
      "Asteroids_named_for_people ('872827', 6)\n",
      "Living_people ('1400548', 2513)\n",
      "Living_people ('1400547', 1998)\n",
      "English_cricketers ('668936', 60)\n",
      "English_cricketers ('666839', 55)\n",
      "Debut_albums ('1182555', 7)\n",
      "Debut_albums ('1182556', 5)\n",
      "Association_football_defenders ('672060', 2)\n",
      "Association_football_defenders ('672062', 1)\n",
      "Year_of_birth_unknown ('62684', 21)\n",
      "Year_of_birth_unknown ('170163', 12)\n",
      "Year_of_death_missing ('661261', 6)\n",
      "Year_of_death_missing ('661259', 6)\n",
      "Association_football_midfielders ('737827', 1)\n",
      "Association_football_midfielders ('89212', 1)\n",
      "Main_Belt_asteroids ('870589', 6522)\n",
      "Main_Belt_asteroids ('871093', 6)\n",
      "Association_football_forwards ('1642409', 3)\n",
      "Association_football_forwards ('734359', 3)\n",
      "Association_football_goalkeepers ('81952', 99)\n",
      "Association_football_goalkeepers ('1359139', 6)\n",
      "Major_League_Baseball_pitchers ('386954', 66)\n",
      "Major_League_Baseball_pitchers ('386672', 46)\n"
     ]
    }
   ],
   "source": [
    "d_descending1 = {}\n",
    "for cat in d:\n",
    "    d_descending1[cat] = (dict(OrderedDict(sorted(d[cat].items(),\n",
    "                                                key=lambda kv: kv[1], reverse=True)).items()))\n",
    "\n",
    "for key, value in d_descending1.items():\n",
    "    c = 0\n",
    "    for e in value.items():\n",
    "        if c < 2:\n",
    "            print(key, e)\n",
    "            c += 1\n",
    "        else:\n",
    "            break"
   ]
  },
  {
   "cell_type": "markdown",
   "metadata": {},
   "source": [
    "**What if we wanted to graphically represent these subgraphs?**\n",
    "The following code shows how we would do it, however the cell to save the graph within a png file is not runnated due to the high execution time.\n",
    "\n",
    "We show the code for the $C_O$ category, obviously the code remains unchanged for the other categories, we only need to change the name of the category we are considering."
   ]
  },
  {
   "cell_type": "code",
   "execution_count": 80,
   "metadata": {},
   "outputs": [],
   "source": [
    "#Show the packages needed\n",
    "import igraph\n",
    "import cairocffi as cairo"
   ]
  },
  {
   "cell_type": "code",
   "execution_count": 81,
   "metadata": {},
   "outputs": [],
   "source": [
    "#Load the data:\n",
    "#in this file there are the arcs between all the nodes of the 35 categories and \n",
    "#not only between the nodes of the C_0 category\n",
    "df_graph = pd.read_csv('sdnodes.csv', usecols=['Source','Destination']) \n",
    "nodes_C_o = set(cat_data['American_Jews']) #Let's take the nodes of the C_0 category"
   ]
  },
  {
   "cell_type": "code",
   "execution_count": 82,
   "metadata": {},
   "outputs": [],
   "source": [
    "subgraph = {}\n",
    "# Create our subgraph -> subgraph = {'A': ['B','C'], 'B': ['A']}\n",
    "for row in df_graph.itertuples():\n",
    "    source = str(row.Source)\n",
    "    destination = str(row.Destination)\n",
    "    if source in nodes_C_o and destination in nodes_C_o:\n",
    "        if source not in subgraph:\n",
    "            subgraph[source] = [destination]\n",
    "        else:\n",
    "            subgraph[source].append(destination)\n",
    "#Let's add the isolated nodes:\n",
    "#that is those nodes that are reached by some arcs but from which no arch does not start\n",
    "for node in nodes_C_o:\n",
    "    if node not in subgraph.keys():\n",
    "        subgraph[node] = []"
   ]
  },
  {
   "cell_type": "code",
   "execution_count": 83,
   "metadata": {},
   "outputs": [],
   "source": [
    "#Create an empty graph\n",
    "g = igraph.Graph(directed = True)\n",
    "\n",
    "g.add_vertices(list(map(str,subgraph.keys()))) #add vertices\n",
    "\n",
    "edges = [(str(v),str(a)) for v in subgraph.keys() for a in subgraph[v]]\n",
    "g.add_edges(edges) #add edges\n",
    "\n",
    "#Above each node we want to show its weight\n",
    "g.vs['label'] = [d['American_Jews'][k] for k in d['American_Jews']]\n",
    "\n",
    "# Create the plot\n",
    "plt = igraph.plot(g,vertex_size = 15,bbox = (400,400))"
   ]
  },
  {
   "cell_type": "code",
   "execution_count": null,
   "metadata": {},
   "outputs": [],
   "source": [
    "plt.save('subgraph_C_0.png')"
   ]
  }
 ],
 "metadata": {
  "kernelspec": {
   "display_name": "Python 3",
   "language": "python",
   "name": "python3"
  },
  "language_info": {
   "codemirror_mode": {
    "name": "ipython",
    "version": 3
   },
   "file_extension": ".py",
   "mimetype": "text/x-python",
   "name": "python",
   "nbconvert_exporter": "python",
   "pygments_lexer": "ipython3",
   "version": "3.6.5"
  }
 },
 "nbformat": 4,
 "nbformat_minor": 2
}
